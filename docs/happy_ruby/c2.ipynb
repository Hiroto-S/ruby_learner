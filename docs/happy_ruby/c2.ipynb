{
 "cells": [
  {
   "cell_type": "markdown",
   "metadata": {
    "toc": "true"
   },
   "source": [
    "# Table of Contents\n",
    " <p><div class=\"lev1 toc-item\"><a href=\"#テキスト\" data-toc-modified-id=\"テキスト-1\"><span class=\"toc-item-num\">1&nbsp;&nbsp;</span>テキスト</a></div><div class=\"lev1 toc-item\"><a href=\"#文字出力\" data-toc-modified-id=\"文字出力-2\"><span class=\"toc-item-num\">2&nbsp;&nbsp;</span>文字出力</a></div><div class=\"lev1 toc-item\"><a href=\"#数値\" data-toc-modified-id=\"数値-3\"><span class=\"toc-item-num\">3&nbsp;&nbsp;</span>数値</a></div><div class=\"lev1 toc-item\"><a href=\"#変数\" data-toc-modified-id=\"変数-4\"><span class=\"toc-item-num\">4&nbsp;&nbsp;</span>変数</a></div><div class=\"lev1 toc-item\"><a href=\"#コメント\" data-toc-modified-id=\"コメント-5\"><span class=\"toc-item-num\">5&nbsp;&nbsp;</span>コメント</a></div><div class=\"lev1 toc-item\"><a href=\"#制御構造\" data-toc-modified-id=\"制御構造-6\"><span class=\"toc-item-num\">6&nbsp;&nbsp;</span>制御構造</a></div><div class=\"lev2 toc-item\"><a href=\"#条件判断(if_then_else)\" data-toc-modified-id=\"条件判断(if_then_else)-61\"><span class=\"toc-item-num\">6.1&nbsp;&nbsp;</span>条件判断(if_then_else)</a></div><div class=\"lev2 toc-item\"><a href=\"#繰り返し(loop)\" data-toc-modified-id=\"繰り返し(loop)-62\"><span class=\"toc-item-num\">6.2&nbsp;&nbsp;</span>繰り返し(loop)</a></div><div class=\"lev1 toc-item\"><a href=\"#課題\" data-toc-modified-id=\"課題-7\"><span class=\"toc-item-num\">7&nbsp;&nbsp;</span>課題</a></div><div class=\"lev2 toc-item\"><a href=\"#helloの変形(hello_name.rb)\" data-toc-modified-id=\"helloの変形(hello_name.rb)-71\"><span class=\"toc-item-num\">7.1&nbsp;&nbsp;</span>helloの変形(hello_name.rb)</a></div><div class=\"lev2 toc-item\"><a href=\"#8回愛してる(hello_8.rb)\" data-toc-modified-id=\"8回愛してる(hello_8.rb)-72\"><span class=\"toc-item-num\">7.2&nbsp;&nbsp;</span>8回愛してる(hello_8.rb)</a></div><div class=\"lev2 toc-item\"><a href=\"#今日の日付\" data-toc-modified-id=\"今日の日付-73\"><span class=\"toc-item-num\">7.3&nbsp;&nbsp;</span>今日の日付</a></div>"
   ]
  },
  {
   "cell_type": "markdown",
   "metadata": {},
   "source": [
    "# テキスト\n",
    "\n",
    "* [たのしいruby c1](TanoshiiRuby_v5_c1.pdf)"
   ]
  },
  {
   "cell_type": "markdown",
   "metadata": {},
   "source": [
    "# 文字出力\n",
    "\n",
    "* print\n",
    "* ダブルコーテーションとシングル\n",
    "* puts, p\n"
   ]
  },
  {
   "cell_type": "code",
   "execution_count": 24,
   "metadata": {},
   "outputs": [
    {
     "name": "stdout",
     "output_type": "stream",
     "text": [
      "Hello, Ruby.\n"
     ]
    }
   ],
   "source": [
    "# print_hello.rb\n",
    "print(\"Hello, Ruby.\\n\")"
   ]
  },
  {
   "cell_type": "code",
   "execution_count": 3,
   "metadata": {},
   "outputs": [
    {
     "name": "stdout",
     "output_type": "stream",
     "text": [
      "Hello, \n",
      "Ruby\n",
      "!\n"
     ]
    }
   ],
   "source": [
    "print(\"Hello, \\nRuby\\n!\\n\")"
   ]
  },
  {
   "cell_type": "code",
   "execution_count": 4,
   "metadata": {},
   "outputs": [
    {
     "name": "stdout",
     "output_type": "stream",
     "text": [
      "Hello, \"Ruby.\"\n"
     ]
    }
   ],
   "source": [
    "print(\"Hello, \\\"Ruby.\\\"\\n\")"
   ]
  },
  {
   "cell_type": "code",
   "execution_count": 5,
   "metadata": {},
   "outputs": [
    {
     "name": "stdout",
     "output_type": "stream",
     "text": [
      "Hello, \\\"Ruby.\\\"\\n"
     ]
    }
   ],
   "source": [
    "print('Hello, \\\"Ruby.\\\"\\n')"
   ]
  },
  {
   "cell_type": "code",
   "execution_count": 23,
   "metadata": {},
   "outputs": [
    {
     "name": "stdout",
     "output_type": "stream",
     "text": [
      "Hello, \n",
      "\tRuby.\n",
      "\"Hello, \\n\\tRuby.\"\n"
     ]
    },
    {
     "data": {
      "text/plain": [
       "\"Hello, \\n\\tRuby.\""
      ]
     },
     "execution_count": 23,
     "metadata": {},
     "output_type": "execute_result"
    }
   ],
   "source": [
    "# puts_and_p.rb\n",
    "puts \"Hello, \\n\\tRuby.\"\n",
    "p \"Hello, \\n\\tRuby.\""
   ]
  },
  {
   "cell_type": "markdown",
   "metadata": {},
   "source": [
    "# 数値"
   ]
  },
  {
   "cell_type": "code",
   "execution_count": 20,
   "metadata": {},
   "outputs": [
    {
     "name": "stdout",
     "output_type": "stream",
     "text": [
      "1+1=2\n"
     ]
    }
   ],
   "source": [
    "# arith.rb\n",
    "print(\"1+1=\",1+1,\"\\n\")"
   ]
  },
  {
   "cell_type": "code",
   "execution_count": 9,
   "metadata": {},
   "outputs": [
    {
     "name": "stdout",
     "output_type": "stream",
     "text": [
      "sin(3.1415) = 9.265358966049024e-05\n",
      "sqrt(10000) = 100.0\n"
     ]
    }
   ],
   "source": [
    "include Math\n",
    "print(\"sin(3.1415) = \", sin(3.1415),\"\\n\")\n",
    "print(\"sqrt(10000) = \", sqrt(10000),\"\\n\")"
   ]
  },
  {
   "cell_type": "markdown",
   "metadata": {},
   "source": [
    "# 変数"
   ]
  },
  {
   "cell_type": "code",
   "execution_count": 31,
   "metadata": {},
   "outputs": [
    {
     "name": "stdout",
     "output_type": "stream",
     "text": [
      "表面積=2200\n",
      "体積　=6000\n"
     ]
    }
   ],
   "source": [
    "# area_volume.rb\n",
    "x = 10\n",
    "y = 20\n",
    "z = 30\n",
    "area = (x*y + y*z + z*x)*2\n",
    "volume = x*y*z\n",
    "print(\"表面積=\", area, \"\\n\")\n",
    "print(\"体積　=\", volume, \"\\n\")"
   ]
  },
  {
   "cell_type": "code",
   "execution_count": 32,
   "metadata": {
    "scrolled": true
   },
   "outputs": [
    {
     "name": "stdout",
     "output_type": "stream",
     "text": [
      "表面積= 2200\n",
      "体積　= 6000\n"
     ]
    }
   ],
   "source": [
    "print(\"表面積= #{area}\\n\")\n",
    "print(\"体積　= #{volume}\\n\")"
   ]
  },
  {
   "cell_type": "markdown",
   "metadata": {},
   "source": [
    "# コメント\n",
    "\n",
    "* #以降がコメント\n",
    "* ブロックコメント(=begin_=end)"
   ]
  },
  {
   "cell_type": "markdown",
   "metadata": {},
   "source": [
    "# 制御構造\n",
    "## 条件判断(if_then_else)\n"
   ]
  },
  {
   "cell_type": "code",
   "execution_count": 13,
   "metadata": {},
   "outputs": [
    {
     "name": "stdout",
     "output_type": "stream",
     "text": [
      "bigger\n"
     ]
    }
   ],
   "source": [
    "# bigger_smaller.rb\n",
    "a = 20\n",
    "if a >= 10\n",
    "  print(\"bigger\\n\")\n",
    "else\n",
    "  print(\"smaller\\n\")\n",
    "end"
   ]
  },
  {
   "cell_type": "markdown",
   "metadata": {},
   "source": [
    "## 繰り返し(loop)\n",
    "* while\n",
    "* times\n",
    "* each"
   ]
  },
  {
   "cell_type": "code",
   "execution_count": 17,
   "metadata": {},
   "outputs": [
    {
     "name": "stdout",
     "output_type": "stream",
     "text": [
      "1\n",
      "2\n",
      "3\n",
      "4\n",
      "5\n",
      "6\n",
      "7\n",
      "8\n",
      "9\n",
      "10\n"
     ]
    }
   ],
   "source": [
    "# while_loop.rb\n",
    "i = 1 \n",
    "while i<=10\n",
    "  print(i, \"\\n\")\n",
    "  i += 1\n",
    "end"
   ]
  },
  {
   "cell_type": "code",
   "execution_count": 18,
   "metadata": {},
   "outputs": [
    {
     "name": "stdout",
     "output_type": "stream",
     "text": [
      "hello. hello. hello. hello. hello. hello. hello. hello. hello. hello. hello. hello. hello. hello. hello. hello. hello. hello. hello. hello. hello. hello. hello. hello. hello. hello. hello. hello. hello. hello. hello. hello. hello. hello. hello. hello. hello. hello. hello. hello. hello. hello. hello. hello. hello. hello. hello. hello. hello. hello. hello. hello. hello. hello. hello. hello. hello. hello. hello. hello. hello. hello. hello. hello. hello. hello. hello. hello. hello. hello. hello. hello. hello. hello. hello. hello. hello. hello. hello. hello. hello. hello. hello. hello. hello. hello. hello. hello. hello. hello. hello. hello. hello. hello. hello. hello. hello. hello. hello. hello. "
     ]
    },
    {
     "data": {
      "text/plain": [
       "100"
      ]
     },
     "execution_count": 18,
     "metadata": {},
     "output_type": "execute_result"
    }
   ],
   "source": [
    "# times_loop.rb\n",
    "100.times {\n",
    "  print \"hello. \"\n",
    "}"
   ]
  },
  {
   "cell_type": "markdown",
   "metadata": {},
   "source": [
    "# 課題"
   ]
  },
  {
   "cell_type": "markdown",
   "metadata": {},
   "source": [
    "## helloの変形(hello_name.rb)\n",
    "自分の名前(例えば，name = 'bob')を変数に入れて\n",
    "> Hello, bob!\n",
    "\n",
    "と返すようにしなさい．"
   ]
  },
  {
   "cell_type": "markdown",
   "metadata": {},
   "source": []
  },
  {
   "cell_type": "markdown",
   "metadata": {
    "collapsed": true
   },
   "source": [
    "## 8回愛してる(hello_8.rb)\n",
    "\n",
    "> Hello, bob!\n",
    "\n",
    "を8回繰り返すようにmain loopを書き換えなさい．さらに，\n",
    "```bash\n",
    "ruby hello_8.rb                 28s  Mon Sep  4 17:25:47 2017\n",
    "   0 Hello, bob.\n",
    "   1 Hello, bob.\n",
    "   2 Hello, bob.\n",
    "   3 Hello, bob.\n",
    "   4 Hello, bob.\n",
    "   5 Hello, bob.\n",
    "   6 Hello, bob.\n",
    "   7 Hello, bob.\n",
    "```\n",
    "\n",
    "というように何回目かを付け足して表示するように書き換えなさい．\n",
    "\n",
    "ヒント：printfも試してみなさい．"
   ]
  },
  {
   "cell_type": "markdown",
   "metadata": {},
   "source": [
    "## 今日の日付\n",
    "\n",
    "> require 'date'\n",
    "\n",
    "してから今日の日付表示させなさい．formatも，含めて，たとえば，\n",
    "\n",
    "```bash\n",
    "Hello, bob!\n",
    "2017年 09月 04日\n",
    "```\n",
    "と返すようにしなさい．どうやるかはネットで調べよ．"
   ]
  },
  {
   "cell_type": "code",
   "execution_count": null,
   "metadata": {
    "collapsed": true
   },
   "outputs": [],
   "source": []
  }
 ],
 "metadata": {
  "kernelspec": {
   "display_name": "Ruby 2.2.2",
   "language": "ruby",
   "name": "ruby"
  },
  "language_info": {
   "file_extension": ".rb",
   "mimetype": "application/x-ruby",
   "name": "ruby",
   "version": "2.2.2"
  },
  "latex_envs": {
   "LaTeX_envs_menu_present": true,
   "autocomplete": true,
   "bibliofile": "biblio.bib",
   "cite_by": "apalike",
   "current_citInitial": 1,
   "eqLabelWithNumbers": true,
   "eqNumInitial": 1,
   "hotkeys": {
    "equation": "Ctrl-E",
    "itemize": "Ctrl-I"
   },
   "labels_anchors": false,
   "latex_user_defs": false,
   "report_style_numbering": false,
   "user_envs_cfg": false
  },
  "toc": {
   "colors": {
    "hover_highlight": "#DAA520",
    "navigate_num": "#000000",
    "navigate_text": "#333333",
    "running_highlight": "#FF0000",
    "selected_highlight": "#FFD700",
    "sidebar_border": "#EEEEEE",
    "wrapper_background": "#FFFFFF"
   },
   "moveMenuLeft": true,
   "nav_menu": {
    "height": "12px",
    "width": "252px"
   },
   "navigate_menu": true,
   "number_sections": true,
   "sideBar": true,
   "threshold": 4,
   "toc_cell": true,
   "toc_section_display": "block",
   "toc_window_display": true,
   "widenNotebook": false
  }
 },
 "nbformat": 4,
 "nbformat_minor": 2
}
